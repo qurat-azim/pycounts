{
    "cells": [
        {
            "cell_type": "markdown",
            "metadata": {},
            "source": [
                "# Usage\n",
                "\n",
                "To use `pycounts` in a project:"
            ]
        },
        {
            "cell_type": "code",
            "execution_count": 1,
            "metadata": {},
            "outputs": [
                {
                    "ename": "ModuleNotFoundError",
                    "evalue": "No module named 'pycounts'",
                    "output_type": "error",
                    "traceback": [
                        "\u001b[0;31m---------------------------------------------------------------------------\u001b[0m",
                        "\u001b[0;31mModuleNotFoundError\u001b[0m                       Traceback (most recent call last)",
                        "Cell \u001b[0;32mIn[1], line 1\u001b[0m\n\u001b[0;32m----> 1\u001b[0m \u001b[38;5;28;01mimport\u001b[39;00m \u001b[38;5;21;01mpycounts\u001b[39;00m\n\u001b[1;32m      3\u001b[0m \u001b[38;5;28mprint\u001b[39m(pycounts\u001b[38;5;241m.\u001b[39m__version__)\n",
                        "\u001b[0;31mModuleNotFoundError\u001b[0m: No module named 'pycounts'"
                    ]
                }
            ],
            "source": [
                "import pycounts\n",
                "\n",
                "print(pycounts.__version__)\n"
            ]
        },
        {
            "cell_type": "markdown",
            "metadata": {},
            "source": [
                "#  Example Usage\n",
                "\n",
                "Here we will demonstrate how to use `pycounts` to count the words in a text file and plot the top 5 results  \n",
                "\n",
                "## Imports"
            ]
        },
        {
            "cell_type": "code",
            "execution_count": null,
            "metadata": {},
            "outputs": [],
            "source": [
                "from pycounts.pycounts import count_words\n",
                "from pycounts.plotting import plot_words\n"
            ]
        },
        {
            "cell_type": "markdown",
            "metadata": {},
            "source": [
                "## Create a text file\n",
                "\n",
                "We'll first create a text file to work with using a famous quote from Einstein:"
            ]
        },
        {
            "cell_type": "code",
            "execution_count": null,
            "metadata": {},
            "outputs": [],
            "source": [
                "quote = \"\"\"Insaniity is doing the ssame thing \n",
                "over and over and expecting different resuults.\"\"\"\n",
                "with open(\"einstein.txt\", \"w\") as file:\n",
                "    file.write(quote)"
            ]
        },
        {
            "cell_type": "markdown",
            "metadata": {},
            "source": [
                "## Count words\n",
                "\n",
                "We can count  the wordss in ourr text file using the `count_words()` function. Note that this function removes punctuation and makes all words lowercase before counting."
            ]
        },
        {
            "cell_type": "code",
            "execution_count": null,
            "metadata": {},
            "outputs": [],
            "source": [
                "counts = count_words(\"einstein.txt\")\n",
                "print(counts)"
            ]
        },
        {
            "cell_type": "markdown",
            "metadata": {},
            "source": [
                "## Plot words\n",
                "\n",
                "We can now plot the result using the `plot_words()` functiion:\n"
            ]
        },
        {
            "cell_type": "markdown",
            "metadata": {},
            "source": []
        },
        {
            "cell_type": "code",
            "execution_count": null,
            "metadata": {},
            "outputs": [],
            "source": [
                "fig = plot_words(counts, n=5)"
            ]
        }
    ],
    "metadata": {
        "kernelspec": {
            "display_name": "Python 3.8.2 64-bit",
            "language": "python",
            "name": "python3"
        },
        "language_info": {
            "codemirror_mode": {
                "name": "ipython",
                "version": 3
            },
            "file_extension": ".py",
            "mimetype": "text/x-python",
            "name": "python",
            "nbconvert_exporter": "python",
            "pygments_lexer": "ipython3",
            "version": "3.8.2"
        },
        "vscode": {
            "interpreter": {
                "hash": "31f2aee4e71d21fbe5cf8b01ff0e069b9275f58929596ceb00d14d90e3e16cd6"
            }
        }
    },
    "nbformat": 4,
    "nbformat_minor": 4
}
